{
 "cells": [
  {
   "cell_type": "code",
   "execution_count": 2,
   "metadata": {},
   "outputs": [],
   "source": [
    "import xarray as xr\n",
    "import pandas as pd\n",
    "import netCDF4 as nc\n",
    "import numpy as np\n",
    "import matplotlib.pyplot as plt"
   ]
  },
  {
   "cell_type": "code",
   "execution_count": 3,
   "metadata": {},
   "outputs": [],
   "source": [
    "wind  = xr.open_dataset(\"24_extreme_wind_speed_days-projections-yearly-rcp_4_5-wrf381p-ipsl_cm5a_mr-r1i1p1-grid-v1.0.nc\", engine=\"netcdf4\")\n",
    "precipitation = xr.open_dataset(\"15_frequency_of_extreme_precipitation-projections-yearly-rcp_4_5-wrf381p-ipsl_cm5a_mr-r1i1p1-grid-v1.0.nc\", engine=\"netcdf4\")"
   ]
  },
  {
   "cell_type": "code",
   "execution_count": 4,
   "metadata": {},
   "outputs": [],
   "source": [
    "wind= wind.to_dataframe().reset_index()\n",
    "precipitation = precipitation.to_dataframe().reset_index()"
   ]
  },
  {
   "cell_type": "code",
   "execution_count": 5,
   "metadata": {},
   "outputs": [
    {
     "data": {
      "text/html": [
       "<div>\n",
       "<style scoped>\n",
       "    .dataframe tbody tr th:only-of-type {\n",
       "        vertical-align: middle;\n",
       "    }\n",
       "\n",
       "    .dataframe tbody tr th {\n",
       "        vertical-align: top;\n",
       "    }\n",
       "\n",
       "    .dataframe thead th {\n",
       "        text-align: right;\n",
       "    }\n",
       "</style>\n",
       "<table border=\"1\" class=\"dataframe\">\n",
       "  <thead>\n",
       "    <tr style=\"text-align: right;\">\n",
       "      <th></th>\n",
       "      <th>time</th>\n",
       "      <th>lat</th>\n",
       "      <th>lon</th>\n",
       "      <th>height</th>\n",
       "      <th>data</th>\n",
       "    </tr>\n",
       "  </thead>\n",
       "  <tbody>\n",
       "    <tr>\n",
       "      <th>0</th>\n",
       "      <td>1951-01-01</td>\n",
       "      <td>26.5</td>\n",
       "      <td>-22.00</td>\n",
       "      <td>10.0</td>\n",
       "      <td>NaT</td>\n",
       "    </tr>\n",
       "    <tr>\n",
       "      <th>1</th>\n",
       "      <td>1951-01-01</td>\n",
       "      <td>26.5</td>\n",
       "      <td>-21.75</td>\n",
       "      <td>10.0</td>\n",
       "      <td>NaT</td>\n",
       "    </tr>\n",
       "    <tr>\n",
       "      <th>2</th>\n",
       "      <td>1951-01-01</td>\n",
       "      <td>26.5</td>\n",
       "      <td>-21.50</td>\n",
       "      <td>10.0</td>\n",
       "      <td>NaT</td>\n",
       "    </tr>\n",
       "    <tr>\n",
       "      <th>3</th>\n",
       "      <td>1951-01-01</td>\n",
       "      <td>26.5</td>\n",
       "      <td>-21.25</td>\n",
       "      <td>10.0</td>\n",
       "      <td>NaT</td>\n",
       "    </tr>\n",
       "    <tr>\n",
       "      <th>4</th>\n",
       "      <td>1951-01-01</td>\n",
       "      <td>26.5</td>\n",
       "      <td>-21.00</td>\n",
       "      <td>10.0</td>\n",
       "      <td>NaT</td>\n",
       "    </tr>\n",
       "    <tr>\n",
       "      <th>...</th>\n",
       "      <td>...</td>\n",
       "      <td>...</td>\n",
       "      <td>...</td>\n",
       "      <td>...</td>\n",
       "      <td>...</td>\n",
       "    </tr>\n",
       "    <tr>\n",
       "      <th>7520245</th>\n",
       "      <td>2100-01-01</td>\n",
       "      <td>72.5</td>\n",
       "      <td>44.50</td>\n",
       "      <td>10.0</td>\n",
       "      <td>NaT</td>\n",
       "    </tr>\n",
       "    <tr>\n",
       "      <th>7520246</th>\n",
       "      <td>2100-01-01</td>\n",
       "      <td>72.5</td>\n",
       "      <td>44.75</td>\n",
       "      <td>10.0</td>\n",
       "      <td>NaT</td>\n",
       "    </tr>\n",
       "    <tr>\n",
       "      <th>7520247</th>\n",
       "      <td>2100-01-01</td>\n",
       "      <td>72.5</td>\n",
       "      <td>45.00</td>\n",
       "      <td>10.0</td>\n",
       "      <td>NaT</td>\n",
       "    </tr>\n",
       "    <tr>\n",
       "      <th>7520248</th>\n",
       "      <td>2100-01-01</td>\n",
       "      <td>72.5</td>\n",
       "      <td>45.25</td>\n",
       "      <td>10.0</td>\n",
       "      <td>NaT</td>\n",
       "    </tr>\n",
       "    <tr>\n",
       "      <th>7520249</th>\n",
       "      <td>2100-01-01</td>\n",
       "      <td>72.5</td>\n",
       "      <td>45.50</td>\n",
       "      <td>10.0</td>\n",
       "      <td>NaT</td>\n",
       "    </tr>\n",
       "  </tbody>\n",
       "</table>\n",
       "<p>7520250 rows × 5 columns</p>\n",
       "</div>"
      ],
      "text/plain": [
       "              time   lat    lon  height data\n",
       "0       1951-01-01  26.5 -22.00    10.0  NaT\n",
       "1       1951-01-01  26.5 -21.75    10.0  NaT\n",
       "2       1951-01-01  26.5 -21.50    10.0  NaT\n",
       "3       1951-01-01  26.5 -21.25    10.0  NaT\n",
       "4       1951-01-01  26.5 -21.00    10.0  NaT\n",
       "...            ...   ...    ...     ...  ...\n",
       "7520245 2100-01-01  72.5  44.50    10.0  NaT\n",
       "7520246 2100-01-01  72.5  44.75    10.0  NaT\n",
       "7520247 2100-01-01  72.5  45.00    10.0  NaT\n",
       "7520248 2100-01-01  72.5  45.25    10.0  NaT\n",
       "7520249 2100-01-01  72.5  45.50    10.0  NaT\n",
       "\n",
       "[7520250 rows x 5 columns]"
      ]
     },
     "execution_count": 5,
     "metadata": {},
     "output_type": "execute_result"
    }
   ],
   "source": [
    "wind"
   ]
  },
  {
   "cell_type": "code",
   "execution_count": 6,
   "metadata": {},
   "outputs": [],
   "source": [
    "wind= wind.drop('height', axis=1)"
   ]
  },
  {
   "cell_type": "code",
   "execution_count": 6,
   "metadata": {},
   "outputs": [
    {
     "data": {
      "text/plain": [
       "time     datetime64[ns]\n",
       "lat             float64\n",
       "lon             float64\n",
       "data    timedelta64[ns]\n",
       "dtype: object"
      ]
     },
     "execution_count": 6,
     "metadata": {},
     "output_type": "execute_result"
    }
   ],
   "source": [
    "wind.dtypes"
   ]
  },
  {
   "cell_type": "code",
   "execution_count": 7,
   "metadata": {},
   "outputs": [],
   "source": [
    "wind['year'] = wind['time'].dt.year"
   ]
  },
  {
   "cell_type": "code",
   "execution_count": 8,
   "metadata": {},
   "outputs": [
    {
     "data": {
      "text/html": [
       "<div>\n",
       "<style scoped>\n",
       "    .dataframe tbody tr th:only-of-type {\n",
       "        vertical-align: middle;\n",
       "    }\n",
       "\n",
       "    .dataframe tbody tr th {\n",
       "        vertical-align: top;\n",
       "    }\n",
       "\n",
       "    .dataframe thead th {\n",
       "        text-align: right;\n",
       "    }\n",
       "</style>\n",
       "<table border=\"1\" class=\"dataframe\">\n",
       "  <thead>\n",
       "    <tr style=\"text-align: right;\">\n",
       "      <th></th>\n",
       "      <th>time</th>\n",
       "      <th>lat</th>\n",
       "      <th>lon</th>\n",
       "      <th>data</th>\n",
       "      <th>year</th>\n",
       "    </tr>\n",
       "  </thead>\n",
       "  <tbody>\n",
       "    <tr>\n",
       "      <th>0</th>\n",
       "      <td>1951-01-01</td>\n",
       "      <td>26.5</td>\n",
       "      <td>-22.00</td>\n",
       "      <td>NaT</td>\n",
       "      <td>1951</td>\n",
       "    </tr>\n",
       "    <tr>\n",
       "      <th>1</th>\n",
       "      <td>1951-01-01</td>\n",
       "      <td>26.5</td>\n",
       "      <td>-21.75</td>\n",
       "      <td>NaT</td>\n",
       "      <td>1951</td>\n",
       "    </tr>\n",
       "    <tr>\n",
       "      <th>2</th>\n",
       "      <td>1951-01-01</td>\n",
       "      <td>26.5</td>\n",
       "      <td>-21.50</td>\n",
       "      <td>NaT</td>\n",
       "      <td>1951</td>\n",
       "    </tr>\n",
       "    <tr>\n",
       "      <th>3</th>\n",
       "      <td>1951-01-01</td>\n",
       "      <td>26.5</td>\n",
       "      <td>-21.25</td>\n",
       "      <td>NaT</td>\n",
       "      <td>1951</td>\n",
       "    </tr>\n",
       "    <tr>\n",
       "      <th>4</th>\n",
       "      <td>1951-01-01</td>\n",
       "      <td>26.5</td>\n",
       "      <td>-21.00</td>\n",
       "      <td>NaT</td>\n",
       "      <td>1951</td>\n",
       "    </tr>\n",
       "    <tr>\n",
       "      <th>...</th>\n",
       "      <td>...</td>\n",
       "      <td>...</td>\n",
       "      <td>...</td>\n",
       "      <td>...</td>\n",
       "      <td>...</td>\n",
       "    </tr>\n",
       "    <tr>\n",
       "      <th>7520245</th>\n",
       "      <td>2100-01-01</td>\n",
       "      <td>72.5</td>\n",
       "      <td>44.50</td>\n",
       "      <td>NaT</td>\n",
       "      <td>2100</td>\n",
       "    </tr>\n",
       "    <tr>\n",
       "      <th>7520246</th>\n",
       "      <td>2100-01-01</td>\n",
       "      <td>72.5</td>\n",
       "      <td>44.75</td>\n",
       "      <td>NaT</td>\n",
       "      <td>2100</td>\n",
       "    </tr>\n",
       "    <tr>\n",
       "      <th>7520247</th>\n",
       "      <td>2100-01-01</td>\n",
       "      <td>72.5</td>\n",
       "      <td>45.00</td>\n",
       "      <td>NaT</td>\n",
       "      <td>2100</td>\n",
       "    </tr>\n",
       "    <tr>\n",
       "      <th>7520248</th>\n",
       "      <td>2100-01-01</td>\n",
       "      <td>72.5</td>\n",
       "      <td>45.25</td>\n",
       "      <td>NaT</td>\n",
       "      <td>2100</td>\n",
       "    </tr>\n",
       "    <tr>\n",
       "      <th>7520249</th>\n",
       "      <td>2100-01-01</td>\n",
       "      <td>72.5</td>\n",
       "      <td>45.50</td>\n",
       "      <td>NaT</td>\n",
       "      <td>2100</td>\n",
       "    </tr>\n",
       "  </tbody>\n",
       "</table>\n",
       "<p>7520250 rows × 5 columns</p>\n",
       "</div>"
      ],
      "text/plain": [
       "              time   lat    lon data  year\n",
       "0       1951-01-01  26.5 -22.00  NaT  1951\n",
       "1       1951-01-01  26.5 -21.75  NaT  1951\n",
       "2       1951-01-01  26.5 -21.50  NaT  1951\n",
       "3       1951-01-01  26.5 -21.25  NaT  1951\n",
       "4       1951-01-01  26.5 -21.00  NaT  1951\n",
       "...            ...   ...    ...  ...   ...\n",
       "7520245 2100-01-01  72.5  44.50  NaT  2100\n",
       "7520246 2100-01-01  72.5  44.75  NaT  2100\n",
       "7520247 2100-01-01  72.5  45.00  NaT  2100\n",
       "7520248 2100-01-01  72.5  45.25  NaT  2100\n",
       "7520249 2100-01-01  72.5  45.50  NaT  2100\n",
       "\n",
       "[7520250 rows x 5 columns]"
      ]
     },
     "execution_count": 8,
     "metadata": {},
     "output_type": "execute_result"
    }
   ],
   "source": [
    "wind"
   ]
  },
  {
   "cell_type": "code",
   "execution_count": 8,
   "metadata": {},
   "outputs": [],
   "source": [
    "wind= wind[(wind['year'] >= 2025) & (wind['year'] <= 2035)]\n"
   ]
  },
  {
   "cell_type": "code",
   "execution_count": 10,
   "metadata": {},
   "outputs": [
    {
     "data": {
      "text/plain": [
       "(551485, 5)"
      ]
     },
     "execution_count": 10,
     "metadata": {},
     "output_type": "execute_result"
    }
   ],
   "source": [
    "wind.shape"
   ]
  },
  {
   "cell_type": "code",
   "execution_count": null,
   "metadata": {},
   "outputs": [],
   "source": [
    "wind['days'] = wind['data'].dt.days"
   ]
  },
  {
   "cell_type": "code",
   "execution_count": 10,
   "metadata": {},
   "outputs": [
    {
     "data": {
      "text/html": [
       "<div>\n",
       "<style scoped>\n",
       "    .dataframe tbody tr th:only-of-type {\n",
       "        vertical-align: middle;\n",
       "    }\n",
       "\n",
       "    .dataframe tbody tr th {\n",
       "        vertical-align: top;\n",
       "    }\n",
       "\n",
       "    .dataframe thead th {\n",
       "        text-align: right;\n",
       "    }\n",
       "</style>\n",
       "<table border=\"1\" class=\"dataframe\">\n",
       "  <thead>\n",
       "    <tr style=\"text-align: right;\">\n",
       "      <th></th>\n",
       "      <th>time</th>\n",
       "      <th>lat</th>\n",
       "      <th>lon</th>\n",
       "      <th>data</th>\n",
       "      <th>year</th>\n",
       "      <th>days</th>\n",
       "    </tr>\n",
       "  </thead>\n",
       "  <tbody>\n",
       "    <tr>\n",
       "      <th>3785728</th>\n",
       "      <td>2026-01-01</td>\n",
       "      <td>50.0</td>\n",
       "      <td>10.25</td>\n",
       "      <td>11 days</td>\n",
       "      <td>2026</td>\n",
       "      <td>11.0</td>\n",
       "    </tr>\n",
       "  </tbody>\n",
       "</table>\n",
       "</div>"
      ],
      "text/plain": [
       "              time   lat    lon    data  year  days\n",
       "3785728 2026-01-01  50.0  10.25 11 days  2026  11.0"
      ]
     },
     "execution_count": 10,
     "metadata": {},
     "output_type": "execute_result"
    }
   ],
   "source": [
    "filtered_data = wind[(wind['time'] == '2026-01-01') & (wind['lat'] == 50) & (wind['lon'] == 10.25)]\n",
    "filtered_data"
   ]
  },
  {
   "cell_type": "code",
   "execution_count": 11,
   "metadata": {},
   "outputs": [
    {
     "name": "stdout",
     "output_type": "stream",
     "text": [
      "days\n",
      "6.0     57630\n",
      "5.0     55407\n",
      "7.0     55245\n",
      "8.0     50375\n",
      "4.0     48593\n",
      "        ...  \n",
      "75.0        1\n",
      "52.0        1\n",
      "77.0        1\n",
      "49.0        1\n",
      "54.0        1\n",
      "Name: count, Length: 64, dtype: int64\n"
     ]
    }
   ],
   "source": [
    "value_counts_wind = wind['days'].value_counts(dropna=True)\n",
    "\n",
    "print(value_counts_wind)"
   ]
  },
  {
   "cell_type": "code",
   "execution_count": 12,
   "metadata": {},
   "outputs": [
    {
     "data": {
      "image/png": "[encoded data removed]",
      "text/plain": [
       "<Figure size 640x480 with 1 Axes>"
      ]
     },
     "metadata": {},
     "output_type": "display_data"
    }
   ],
   "source": [
    "value_counts_wind.plot(kind='bar')\n",
    "\n",
    "# Ajouter un titre et des labels\n",
    "plt.title('Nombre de jours')\n",
    "plt.xlabel('Jour')\n",
    "plt.ylabel('Nombre d\\'occurrences')\n",
    "plt.xticks(rotation=45)\n",
    "plt.show()"
   ]
  },
  {
   "cell_type": "code",
   "execution_count": 13,
   "metadata": {},
   "outputs": [
    {
     "name": "stdout",
     "output_type": "stream",
     "text": [
      "              time   lat    lon data  year  days risk\n",
      "3709990 2025-01-01  26.5 -22.00  NaT  2025   NaN    0\n",
      "3709991 2025-01-01  26.5 -21.75  NaT  2025   NaN    0\n",
      "3709992 2025-01-01  26.5 -21.50  NaT  2025   NaN    0\n",
      "3709993 2025-01-01  26.5 -21.25  NaT  2025   NaN    0\n",
      "3709994 2025-01-01  26.5 -21.00  NaT  2025   NaN    0\n",
      "...            ...   ...    ...  ...   ...   ...  ...\n",
      "4261470 2035-01-01  72.5  44.50  NaT  2035   NaN    0\n",
      "4261471 2035-01-01  72.5  44.75  NaT  2035   NaN    0\n",
      "4261472 2035-01-01  72.5  45.00  NaT  2035   NaN    0\n",
      "4261473 2035-01-01  72.5  45.25  NaT  2035   NaN    0\n",
      "4261474 2035-01-01  72.5  45.50  NaT  2035   NaN    0\n",
      "\n",
      "[551485 rows x 7 columns]\n"
     ]
    }
   ],
   "source": [
    "# Calcul des percentiles (33% et 66%) pour diviser en 3 groupes\n",
    "percentiles = wind['days'].quantile([0.33, 0.66])\n",
    "\n",
    "# Ajout de la colonne \"risk\" en fonction des percentiles\n",
    "def assign_risk(value):\n",
    "    if pd.isna(value): \n",
    "        return '0' \n",
    "    if value <= percentiles[0.33]:\n",
    "        return '1'  # Risk faible pour le 1er tiers (33%)\n",
    "    elif value <= percentiles[0.66]:\n",
    "        return '2'  # Risk modéré pour le 2ème tiers (66%)\n",
    "    else:\n",
    "        return '3'  # Risk élevé pour les valeurs supérieures au 2ème tiers (66%)\n",
    "\n",
    "# Appliquer la fonction assign_risk à chaque valeur de la colonne \"days\"\n",
    "wind['risk'] = wind['days'].apply(assign_risk)\n",
    "\n",
    "print(wind)\n"
   ]
  },
  {
   "cell_type": "code",
   "execution_count": 14,
   "metadata": {},
   "outputs": [
    {
     "data": {
      "text/plain": [
       "count     551485\n",
       "unique         4\n",
       "top            1\n",
       "freq      182487\n",
       "Name: risk, dtype: object"
      ]
     },
     "execution_count": 14,
     "metadata": {},
     "output_type": "execute_result"
    }
   ],
   "source": [
    "wind['risk'].describe()"
   ]
  },
  {
   "cell_type": "code",
   "execution_count": 28,
   "metadata": {},
   "outputs": [
    {
     "data": {
      "text/html": [
       "<div>\n",
       "<style scoped>\n",
       "    .dataframe tbody tr th:only-of-type {\n",
       "        vertical-align: middle;\n",
       "    }\n",
       "\n",
       "    .dataframe tbody tr th {\n",
       "        vertical-align: top;\n",
       "    }\n",
       "\n",
       "    .dataframe thead th {\n",
       "        text-align: right;\n",
       "    }\n",
       "</style>\n",
       "<table border=\"1\" class=\"dataframe\">\n",
       "  <thead>\n",
       "    <tr style=\"text-align: right;\">\n",
       "      <th></th>\n",
       "      <th>time</th>\n",
       "      <th>lat</th>\n",
       "      <th>lon</th>\n",
       "      <th>data</th>\n",
       "      <th>year</th>\n",
       "      <th>days</th>\n",
       "      <th>risk</th>\n",
       "    </tr>\n",
       "  </thead>\n",
       "  <tbody>\n",
       "    <tr>\n",
       "      <th>3871635</th>\n",
       "      <td>2028-01-01</td>\n",
       "      <td>36.75</td>\n",
       "      <td>10.25</td>\n",
       "      <td>6 days</td>\n",
       "      <td>2028</td>\n",
       "      <td>6.0</td>\n",
       "      <td>2</td>\n",
       "    </tr>\n",
       "  </tbody>\n",
       "</table>\n",
       "</div>"
      ],
      "text/plain": [
       "              time    lat    lon   data  year  days risk\n",
       "3871635 2028-01-01  36.75  10.25 6 days  2028   6.0    2"
      ]
     },
     "execution_count": 28,
     "metadata": {},
     "output_type": "execute_result"
    }
   ],
   "source": [
    "filtered_data = wind[(wind['time'] == '2028-01-01') & (wind['lat'] ==36.75 ) & (wind['lon'] == 10.25)]\n",
    "filtered_data"
   ]
  },
  {
   "cell_type": "code",
   "execution_count": 17,
   "metadata": {},
   "outputs": [],
   "source": [
    "wind.to_csv(\"wind.csv\", index=False)"
   ]
  },
  {
   "cell_type": "code",
   "execution_count": 18,
   "metadata": {},
   "outputs": [
    {
     "data": {
      "text/html": [
       "<div>\n",
       "<style scoped>\n",
       "    .dataframe tbody tr th:only-of-type {\n",
       "        vertical-align: middle;\n",
       "    }\n",
       "\n",
       "    .dataframe tbody tr th {\n",
       "        vertical-align: top;\n",
       "    }\n",
       "\n",
       "    .dataframe thead th {\n",
       "        text-align: right;\n",
       "    }\n",
       "</style>\n",
       "<table border=\"1\" class=\"dataframe\">\n",
       "  <thead>\n",
       "    <tr style=\"text-align: right;\">\n",
       "      <th></th>\n",
       "      <th>time</th>\n",
       "      <th>lat</th>\n",
       "      <th>lon</th>\n",
       "      <th>data</th>\n",
       "    </tr>\n",
       "  </thead>\n",
       "  <tbody>\n",
       "    <tr>\n",
       "      <th>0</th>\n",
       "      <td>1951-01-01</td>\n",
       "      <td>26.5</td>\n",
       "      <td>-22.00</td>\n",
       "      <td>NaT</td>\n",
       "    </tr>\n",
       "    <tr>\n",
       "      <th>1</th>\n",
       "      <td>1951-01-01</td>\n",
       "      <td>26.5</td>\n",
       "      <td>-21.75</td>\n",
       "      <td>NaT</td>\n",
       "    </tr>\n",
       "    <tr>\n",
       "      <th>2</th>\n",
       "      <td>1951-01-01</td>\n",
       "      <td>26.5</td>\n",
       "      <td>-21.50</td>\n",
       "      <td>NaT</td>\n",
       "    </tr>\n",
       "    <tr>\n",
       "      <th>3</th>\n",
       "      <td>1951-01-01</td>\n",
       "      <td>26.5</td>\n",
       "      <td>-21.25</td>\n",
       "      <td>NaT</td>\n",
       "    </tr>\n",
       "    <tr>\n",
       "      <th>4</th>\n",
       "      <td>1951-01-01</td>\n",
       "      <td>26.5</td>\n",
       "      <td>-21.00</td>\n",
       "      <td>NaT</td>\n",
       "    </tr>\n",
       "    <tr>\n",
       "      <th>...</th>\n",
       "      <td>...</td>\n",
       "      <td>...</td>\n",
       "      <td>...</td>\n",
       "      <td>...</td>\n",
       "    </tr>\n",
       "    <tr>\n",
       "      <th>7520245</th>\n",
       "      <td>2100-01-01</td>\n",
       "      <td>72.5</td>\n",
       "      <td>44.50</td>\n",
       "      <td>NaT</td>\n",
       "    </tr>\n",
       "    <tr>\n",
       "      <th>7520246</th>\n",
       "      <td>2100-01-01</td>\n",
       "      <td>72.5</td>\n",
       "      <td>44.75</td>\n",
       "      <td>NaT</td>\n",
       "    </tr>\n",
       "    <tr>\n",
       "      <th>7520247</th>\n",
       "      <td>2100-01-01</td>\n",
       "      <td>72.5</td>\n",
       "      <td>45.00</td>\n",
       "      <td>NaT</td>\n",
       "    </tr>\n",
       "    <tr>\n",
       "      <th>7520248</th>\n",
       "      <td>2100-01-01</td>\n",
       "      <td>72.5</td>\n",
       "      <td>45.25</td>\n",
       "      <td>NaT</td>\n",
       "    </tr>\n",
       "    <tr>\n",
       "      <th>7520249</th>\n",
       "      <td>2100-01-01</td>\n",
       "      <td>72.5</td>\n",
       "      <td>45.50</td>\n",
       "      <td>NaT</td>\n",
       "    </tr>\n",
       "  </tbody>\n",
       "</table>\n",
       "<p>7520250 rows × 4 columns</p>\n",
       "</div>"
      ],
      "text/plain": [
       "              time   lat    lon data\n",
       "0       1951-01-01  26.5 -22.00  NaT\n",
       "1       1951-01-01  26.5 -21.75  NaT\n",
       "2       1951-01-01  26.5 -21.50  NaT\n",
       "3       1951-01-01  26.5 -21.25  NaT\n",
       "4       1951-01-01  26.5 -21.00  NaT\n",
       "...            ...   ...    ...  ...\n",
       "7520245 2100-01-01  72.5  44.50  NaT\n",
       "7520246 2100-01-01  72.5  44.75  NaT\n",
       "7520247 2100-01-01  72.5  45.00  NaT\n",
       "7520248 2100-01-01  72.5  45.25  NaT\n",
       "7520249 2100-01-01  72.5  45.50  NaT\n",
       "\n",
       "[7520250 rows x 4 columns]"
      ]
     },
     "execution_count": 18,
     "metadata": {},
     "output_type": "execute_result"
    }
   ],
   "source": [
    "precipitation"
   ]
  },
  {
   "cell_type": "code",
   "execution_count": 19,
   "metadata": {},
   "outputs": [
    {
     "data": {
      "text/plain": [
       "time     datetime64[ns]\n",
       "lat             float64\n",
       "lon             float64\n",
       "data    timedelta64[ns]\n",
       "dtype: object"
      ]
     },
     "execution_count": 19,
     "metadata": {},
     "output_type": "execute_result"
    }
   ],
   "source": [
    "precipitation.dtypes"
   ]
  },
  {
   "cell_type": "code",
   "execution_count": 20,
   "metadata": {},
   "outputs": [],
   "source": [
    "precipitation['year'] = precipitation['time'].dt.year"
   ]
  },
  {
   "cell_type": "code",
   "execution_count": null,
   "metadata": {},
   "outputs": [],
   "source": [
    "precipitation = precipitation[(precipitation['year'] >= 2025) & (precipitation['year'] <= 2035)]"
   ]
  },
  {
   "cell_type": "code",
   "execution_count": 22,
   "metadata": {},
   "outputs": [
    {
     "name": "stderr",
     "output_type": "stream",
     "text": [
      "/tmp/ipykernel_145510/4125743944.py:1: SettingWithCopyWarning: \n",
      "A value is trying to be set on a copy of a slice from a DataFrame.\n",
      "Try using .loc[row_indexer,col_indexer] = value instead\n",
      "\n",
      "See the caveats in the documentation: https://pandas.pydata.org/pandas-docs/stable/user_guide/indexing.html#returning-a-view-versus-a-copy\n",
      "  precipitation['days'] = precipitation['data'].dt.days\n"
     ]
    }
   ],
   "source": [
    "precipitation['days'] = precipitation['data'].dt.days\n"
   ]
  },
  {
   "cell_type": "code",
   "execution_count": 24,
   "metadata": {},
   "outputs": [
    {
     "data": {
      "text/html": [
       "<div>\n",
       "<style scoped>\n",
       "    .dataframe tbody tr th:only-of-type {\n",
       "        vertical-align: middle;\n",
       "    }\n",
       "\n",
       "    .dataframe tbody tr th {\n",
       "        vertical-align: top;\n",
       "    }\n",
       "\n",
       "    .dataframe thead th {\n",
       "        text-align: right;\n",
       "    }\n",
       "</style>\n",
       "<table border=\"1\" class=\"dataframe\">\n",
       "  <thead>\n",
       "    <tr style=\"text-align: right;\">\n",
       "      <th></th>\n",
       "      <th>time</th>\n",
       "      <th>lat</th>\n",
       "      <th>lon</th>\n",
       "      <th>data</th>\n",
       "      <th>year</th>\n",
       "      <th>days</th>\n",
       "    </tr>\n",
       "  </thead>\n",
       "  <tbody>\n",
       "    <tr>\n",
       "      <th>3871635</th>\n",
       "      <td>2028-01-01</td>\n",
       "      <td>36.75</td>\n",
       "      <td>10.25</td>\n",
       "      <td>10 days</td>\n",
       "      <td>2028</td>\n",
       "      <td>10.0</td>\n",
       "    </tr>\n",
       "  </tbody>\n",
       "</table>\n",
       "</div>"
      ],
      "text/plain": [
       "              time    lat    lon    data  year  days\n",
       "3871635 2028-01-01  36.75  10.25 10 days  2028  10.0"
      ]
     },
     "execution_count": 24,
     "metadata": {},
     "output_type": "execute_result"
    }
   ],
   "source": [
    "filtered_data = precipitation[(precipitation['time'] == '2028-01-01') & (precipitation['lat'] ==36.75 ) & (precipitation['lon'] == 10.25)]\n",
    "filtered_data"
   ]
  },
  {
   "cell_type": "code",
   "execution_count": 25,
   "metadata": {},
   "outputs": [
    {
     "name": "stdout",
     "output_type": "stream",
     "text": [
      "days\n",
      "0.0     40486\n",
      "7.0     37931\n",
      "6.0     36985\n",
      "8.0     36435\n",
      "5.0     34448\n",
      "9.0     34420\n",
      "4.0     31606\n",
      "10.0    30810\n",
      "3.0     28268\n",
      "1.0     28089\n",
      "11.0    26621\n",
      "2.0     26082\n",
      "12.0    22905\n",
      "13.0    19804\n",
      "14.0    16155\n",
      "15.0    13126\n",
      "16.0    10649\n",
      "17.0     8238\n",
      "18.0     6403\n",
      "19.0     4729\n",
      "20.0     3404\n",
      "21.0     2491\n",
      "22.0     1758\n",
      "23.0     1284\n",
      "24.0      993\n",
      "25.0      648\n",
      "26.0      402\n",
      "27.0      290\n",
      "28.0      201\n",
      "29.0      118\n",
      "30.0       80\n",
      "31.0       42\n",
      "32.0       27\n",
      "33.0       24\n",
      "34.0       13\n",
      "35.0        9\n",
      "36.0        7\n",
      "37.0        4\n",
      "38.0        4\n",
      "Name: count, dtype: int64\n"
     ]
    }
   ],
   "source": [
    "value_counts_precipitation = precipitation['days'].value_counts(dropna=True)\n",
    "\n",
    "print(value_counts_precipitation)"
   ]
  },
  {
   "cell_type": "code",
   "execution_count": 26,
   "metadata": {},
   "outputs": [
    {
     "data": {
      "image/png": "[encoded data removed]",
      "text/plain": [
       "<Figure size 640x480 with 1 Axes>"
      ]
     },
     "metadata": {},
     "output_type": "display_data"
    }
   ],
   "source": [
    "value_counts_precipitation.plot(kind='bar')\n",
    "\n",
    "# Ajouter un titre et des labels\n",
    "plt.title('Nombre de jours')\n",
    "plt.xlabel('Jour')\n",
    "plt.ylabel('Nombre d\\'occurrences')\n",
    "plt.xticks(rotation=45)\n",
    "plt.show()"
   ]
  },
  {
   "cell_type": "code",
   "execution_count": 29,
   "metadata": {},
   "outputs": [
    {
     "name": "stdout",
     "output_type": "stream",
     "text": [
      "              time   lat    lon data  year  days risk\n",
      "3709990 2025-01-01  26.5 -22.00  NaT  2025   NaN    O\n",
      "3709991 2025-01-01  26.5 -21.75  NaT  2025   NaN    O\n",
      "3709992 2025-01-01  26.5 -21.50  NaT  2025   NaN    O\n",
      "3709993 2025-01-01  26.5 -21.25  NaT  2025   NaN    O\n",
      "3709994 2025-01-01  26.5 -21.00  NaT  2025   NaN    O\n",
      "...            ...   ...    ...  ...   ...   ...  ...\n",
      "4261470 2035-01-01  72.5  44.50  NaT  2035   NaN    O\n",
      "4261471 2035-01-01  72.5  44.75  NaT  2035   NaN    O\n",
      "4261472 2035-01-01  72.5  45.00  NaT  2035   NaN    O\n",
      "4261473 2035-01-01  72.5  45.25  NaT  2035   NaN    O\n",
      "4261474 2035-01-01  72.5  45.50  NaT  2035   NaN    O\n",
      "\n",
      "[551485 rows x 7 columns]\n"
     ]
    },
    {
     "name": "stderr",
     "output_type": "stream",
     "text": [
      "/tmp/ipykernel_145510/123744152.py:16: SettingWithCopyWarning: \n",
      "A value is trying to be set on a copy of a slice from a DataFrame.\n",
      "Try using .loc[row_indexer,col_indexer] = value instead\n",
      "\n",
      "See the caveats in the documentation: https://pandas.pydata.org/pandas-docs/stable/user_guide/indexing.html#returning-a-view-versus-a-copy\n",
      "  precipitation['risk'] = precipitation['days'].apply(assign_risk)\n"
     ]
    }
   ],
   "source": [
    "# Calcul des percentiles (33% et 66%) pour diviser en 3 groupes\n",
    "percentiles = precipitation['days'].quantile([0.33, 0.66])\n",
    "\n",
    "# Ajout de la colonne \"risk\" en fonction des percentiles\n",
    "def assign_risk(value):\n",
    "    if pd.isna(value): \n",
    "        return 'O' \n",
    "    if value <= percentiles[0.33]:\n",
    "        return '1'  # Risk faible pour le 1er tiers (33%)\n",
    "    elif value <= percentiles[0.66]:\n",
    "        return '2'  # Risk modéré pour le 2ème tiers (66%)\n",
    "    else:\n",
    "        return '3'  # Risk élevé pour les valeurs supérieures au 2ème tiers (66%)\n",
    "\n",
    "# Appliquer la fonction assign_risk à chaque valeur de la colonne \"days\"\n",
    "precipitation['risk'] = precipitation['days'].apply(assign_risk)\n",
    "\n",
    "print(precipitation)"
   ]
  },
  {
   "cell_type": "code",
   "execution_count": null,
   "metadata": {},
   "outputs": [],
   "source": []
  },
  {
   "cell_type": "code",
   "execution_count": 30,
   "metadata": {},
   "outputs": [],
   "source": [
    "precipitation.to_csv(\"precipitaion.csv\", index=False)\n"
   ]
  }
 ],
 "metadata": {
  "kernelspec": {
   "display_name": "Python 3",
   "language": "python",
   "name": "python3"
  },
  "language_info": {
   "codemirror_mode": {
    "name": "ipython",
    "version": 3
   },
   "file_extension": ".py",
   "mimetype": "text/x-python",
   "name": "python",
   "nbconvert_exporter": "python",
   "pygments_lexer": "ipython3",
   "version": "3.12.7"
  }
 },
 "nbformat": 4,
 "nbformat_minor": 2
}
